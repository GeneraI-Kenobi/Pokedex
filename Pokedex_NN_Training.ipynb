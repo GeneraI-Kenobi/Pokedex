{
 "cells": [
  {
   "cell_type": "code",
   "execution_count": 29,
   "metadata": {},
   "outputs": [],
   "source": [
    "#Load libraries\n",
    "import os\n",
    "import numpy as np\n",
    "import torch\n",
    "import glob\n",
    "import torch.nn as nn\n",
    "from torchvision.transforms import transforms\n",
    "from torch.utils.data import DataLoader\n",
    "from torch.optim import Adam\n",
    "from torch.autograd import Variable\n",
    "import torchvision\n",
    "import pathlib"
   ]
  },
  {
   "cell_type": "code",
   "execution_count": 30,
   "metadata": {},
   "outputs": [
    {
     "name": "stdout",
     "output_type": "stream",
     "text": [
      "cpu\n"
     ]
    }
   ],
   "source": [
    "device = torch.device('cuda' if torch.cuda.is_available() else 'cpu')\n",
    "print(device)"
   ]
  },
  {
   "cell_type": "code",
   "execution_count": 31,
   "metadata": {},
   "outputs": [],
   "source": [
    "transformer = transforms.Compose([\n",
    "    transforms.Resize((150,150)),\n",
    "    transforms.RandomHorizontalFlip(),\n",
    "    transforms.RandomVerticalFlip(),\n",
    "    transforms.RandomInvert(),\n",
    "    transforms.ToTensor(),\n",
    "    transforms.Normalize([0.5, 0.5, 0.5], \n",
    "                         [0.5, 0.5, 0.5])\n",
    "])"
   ]
  },
  {
   "cell_type": "code",
   "execution_count": 32,
   "metadata": {},
   "outputs": [],
   "source": [
    "pokemon = ['Abra', 'Aerodactyl', 'Alakazam', 'Arbok',\n",
    "          'Arcanine', 'Articuno', 'Beedrill', 'Bellsprout', 'Blastoise',\n",
    "          'Bulbasaur', 'Butterfree', 'Caterpie', 'Chansey', 'Charizard',\n",
    "          'Charmander', 'Charmeleon', 'Clefable', 'Clefairy', 'Cloyster',\n",
    "          'Cubone', 'Dewgong', 'Diglett', 'Ditto', 'Dodrio', 'Doduo', 'Dragonair',\n",
    "          'Dragonite', 'Dratini', 'Drowzee', 'Dugtrio', 'Eevee', 'Ekans',\n",
    "          'Electabuzz', 'Electrode', 'Exeggute', 'Exeggutor','Farfechd', 'Fearow',\n",
    "          'Flareon', 'Gastly', 'Gengar', 'Geodude', 'Gloom', 'Golbat', 'Goldeen',\n",
    "          'Golduck', 'Golem', 'Graveler', 'Grimer', 'Growlithe', 'Gyarados',\n",
    "          'Haunter', 'Hitmonchan', 'Hitmonlee', 'Horsea', 'Hypno', 'Ivyasaur',\n",
    "          'Jigglypuff', 'Jolteon', 'Jynx', 'Kabuto', 'Kabutops', 'Kadabra',\n",
    "          'Kakuna', 'Kangaskhan', 'Kingler', 'Koffing', 'Krabby', 'Lapras',\n",
    "          'Likitung', 'Machamp', 'Machoke', 'Machop', 'Magikarp', 'Magmar',\n",
    "          'Magnemite', 'Magneton', 'Mankey', 'Marowak', 'Meowth', 'Metapod',\n",
    "          'Mew', 'Mewtwo', 'Moltres', 'Mr.Mime', 'Muk', 'Nidoking', 'Nidoqueen', \n",
    "          'Nidoran(female)','Nidoran(male)', 'Nidorina', 'Nidorino', 'Ninetales',\n",
    "          'Oddish', 'Omanyte', 'Omastar', 'Onix', 'Paras', 'Parasect', 'Persian',\n",
    "          'Pidgeot', 'Pidgeotto', 'Pidgey', 'Pikachu', 'Pinsir', 'Poliwag',\n",
    "          'Poliwhirl', 'Poliwrath', 'Ponyta', 'Porygon', 'Primeape', 'Psyduck',\n",
    "          'Raichu', 'Rapidash', 'Raticate', 'Rattata', 'Rhydon', 'Rhyhorn',\n",
    "          'Sandshrew', 'Sandslash', 'Scyther', 'Seadra', 'Seaking', 'Seel',\n",
    "          'Shellder', 'Slowbro', 'Slowpoke', 'Snorlax', 'Spearow', 'Squirtle',\n",
    "          'Starmie', 'Staryu', 'Tangela', 'Tauros', 'Tentacool', 'Tentacruel',\n",
    "          'Vapooreon', 'Venomoth', 'Venonat', 'Venusaur', 'Victreebel',\n",
    "          'Vileplume', 'Voltorb', 'Vulpix', 'Wartortle', 'Weedle', 'Weepinbell',\n",
    "          'Weezing', 'Wigglytuff', 'Zapdos', 'Zubat']"
   ]
  },
  {
   "cell_type": "code",
   "execution_count": 33,
   "metadata": {},
   "outputs": [],
   "source": [
    "#Data Loader\n",
    "\n",
    "train_loader = DataLoader(\n",
    "    torchvision.datasets.ImageFolder('train', transform = transformer),\n",
    "    batch_size = 128, shuffle = True\n",
    ")\n",
    "\n",
    "test_loader = DataLoader(\n",
    "    torchvision.datasets.ImageFolder('test', transform = transformer),\n",
    "    batch_size = 128, shuffle = True\n",
    ")"
   ]
  },
  {
   "cell_type": "code",
   "execution_count": 34,
   "metadata": {},
   "outputs": [],
   "source": [
    "root = pathlib.Path('train')"
   ]
  },
  {
   "cell_type": "code",
   "execution_count": 35,
   "metadata": {},
   "outputs": [],
   "source": [
    "#CNN Network\n",
    "\n",
    "class ConvNet(nn.Module):\n",
    "    def __init__(self, num_pokemon = 151):\n",
    "        super(ConvNet,self).__init__()\n",
    "    \n",
    "        #Input shape = (128, 3, 150, 150)\n",
    "    \n",
    "        #Output size after convolution = 150\n",
    "    \n",
    "        self.conv1 = nn.Conv2d(in_channels = 3, out_channels = 12, kernel_size = 3, stride = 1, padding = 1)\n",
    "        #Shape = (128, 12, 150, 150)\n",
    "        self.bn1 = nn.BatchNorm2d(num_features = 12)\n",
    "        #Shape = (128,12,150,150)\n",
    "        self.relu1 = nn.ReLU()\n",
    "    \n",
    "        self.pool = nn.MaxPool2d(kernel_size = 2)\n",
    "        #Reduce the image size by factor of 2\n",
    "        #Shape = (128, 12, 75,75)\n",
    "    \n",
    "        self.conv2 = nn.Conv2d(in_channels = 12, out_channels = 20, kernel_size = 3, stride = 1, padding = 1)\n",
    "        #Shape = (128, 20, 75, 75)\n",
    "        self.relu2 = nn.ReLU()\n",
    "        #Shape = (128,20,75,75)\n",
    "    \n",
    "        self.conv3 = nn.Conv2d(in_channels = 20, out_channels = 32, kernel_size = 3, stride = 1, padding = 1)\n",
    "        #Shape = (128, 32, 75, 75)\n",
    "        self.bn3 = nn.BatchNorm2d(num_features = 32)\n",
    "        #Shape = (128,32,75,75)\n",
    "        self.relu3 = nn.ReLU()\n",
    "        #Shape = (128, 32, 75, 75)\n",
    "    \n",
    "        self.fc = nn.Linear(in_features = 32*75*75, out_features = num_pokemon)\n",
    "    \n",
    "        #Feed forward function\n",
    "    \n",
    "    def forward(self, input):\n",
    "        output = self.conv1(input)\n",
    "        output = self.bn1(output)\n",
    "        output = self.relu1(output)\n",
    "        \n",
    "        output = self.pool(output)\n",
    "        \n",
    "        output = self.conv2(output)\n",
    "        output = self.relu2(output)\n",
    "        \n",
    "        output = self.conv3(output)\n",
    "        output = self.bn3(output)\n",
    "        output = self.relu3(output)\n",
    "        \n",
    "        #Above outpput will be in matrix form, with shape (128, 32, 75, 75)\n",
    "        \n",
    "        output = output.view(-1, 32*75*75)\n",
    "        \n",
    "        output = self.fc(output)\n",
    "        \n",
    "        return output\n",
    "    "
   ]
  },
  {
   "cell_type": "code",
   "execution_count": 36,
   "metadata": {},
   "outputs": [],
   "source": [
    "model = ConvNet(num_pokemon = 151).to(device)"
   ]
  },
  {
   "cell_type": "code",
   "execution_count": 37,
   "metadata": {},
   "outputs": [],
   "source": [
    "#Optimizer and loss function\n",
    "optimizer = Adam(model.parameters(),lr = 0.0001, weight_decay = 0.0001)\n",
    "loss_function = nn.CrossEntropyLoss()"
   ]
  },
  {
   "cell_type": "code",
   "execution_count": 38,
   "metadata": {},
   "outputs": [],
   "source": [
    "num_epochs = 20"
   ]
  },
  {
   "cell_type": "code",
   "execution_count": 39,
   "metadata": {},
   "outputs": [],
   "source": [
    "#Calculating the size of training and testing images\n",
    "train_count = len(glob.glob('train'+'/**/*.jpg'))\n",
    "test_count = len(glob.glob('test'+'/**/*.jpg'))"
   ]
  },
  {
   "cell_type": "code",
   "execution_count": 40,
   "metadata": {},
   "outputs": [
    {
     "name": "stdout",
     "output_type": "stream",
     "text": [
      "6643 448\n"
     ]
    }
   ],
   "source": [
    "print(train_count, test_count)"
   ]
  },
  {
   "cell_type": "code",
   "execution_count": 41,
   "metadata": {},
   "outputs": [
    {
     "name": "stdout",
     "output_type": "stream",
     "text": [
      "epoch: 0 Train Loss: 6.959683895111084 Train Accuracy: 0.04786993828089719Test Accuracy: 0.14508928571428573\n",
      "epoch: 1 Train Loss: 4.23647928237915 Train Accuracy: 0.2214360981484269Test Accuracy: 0.30580357142857145\n",
      "epoch: 2 Train Loss: 3.286867618560791 Train Accuracy: 0.361282553063375Test Accuracy: 0.43080357142857145\n",
      "epoch: 3 Train Loss: 2.816659688949585 Train Accuracy: 0.45280746650609666Test Accuracy: 0.42857142857142855\n",
      "epoch: 4 Train Loss: 2.371396064758301 Train Accuracy: 0.533493903356917Test Accuracy: 0.4888392857142857\n",
      "epoch: 5 Train Loss: 1.9223923683166504 Train Accuracy: 0.6105675146771037Test Accuracy: 0.47544642857142855\n",
      "epoch: 6 Train Loss: 1.7145153284072876 Train Accuracy: 0.6558783682071353Test Accuracy: 0.5066964285714286\n",
      "epoch: 7 Train Loss: 1.4988880157470703 Train Accuracy: 0.6950173114556676Test Accuracy: 0.515625\n",
      "epoch: 8 Train Loss: 1.2659780979156494 Train Accuracy: 0.7400270961914798Test Accuracy: 0.5066964285714286\n",
      "epoch: 9 Train Loss: 1.102349042892456 Train Accuracy: 0.7743489387325003Test Accuracy: 0.5535714285714286\n",
      "epoch: 10 Train Loss: 0.9539958834648132 Train Accuracy: 0.8103266596417281Test Accuracy: 0.5491071428571429\n",
      "epoch: 11 Train Loss: 0.8986874222755432 Train Accuracy: 0.8184555170856541Test Accuracy: 0.5535714285714286\n",
      "epoch: 12 Train Loss: 0.7206341028213501 Train Accuracy: 0.8560891163630889Test Accuracy: 0.5758928571428571\n",
      "epoch: 13 Train Loss: 0.6462388634681702 Train Accuracy: 0.8709920216769532Test Accuracy: 0.5848214285714286\n",
      "epoch: 14 Train Loss: 0.5810950398445129 Train Accuracy: 0.8880024085503537Test Accuracy: 0.5982142857142857\n",
      "epoch: 15 Train Loss: 0.4867473244667053 Train Accuracy: 0.9074213457775102Test Accuracy: 0.5848214285714286\n",
      "epoch: 16 Train Loss: 0.46111559867858887 Train Accuracy: 0.9187114255607406Test Accuracy: 0.59375\n",
      "epoch: 17 Train Loss: 0.3832809031009674 Train Accuracy: 0.9376787595965678Test Accuracy: 0.5892857142857143\n",
      "epoch: 18 Train Loss: 0.33459895849227905 Train Accuracy: 0.9446033418636158Test Accuracy: 0.59375\n",
      "epoch: 19 Train Loss: 0.2877082824707031 Train Accuracy: 0.9586030407948216Test Accuracy: 0.5535714285714286\n"
     ]
    }
   ],
   "source": [
    "#Model training and saving best model\n",
    "\n",
    "best_accuracy = 0.0\n",
    "\n",
    "for epoch in range(num_epochs):\n",
    "    \n",
    "    #Evaluation and training on training dataset\n",
    "    model.train()\n",
    "    train_accuracy = 0.0\n",
    "    train_loss = 0.0\n",
    "    \n",
    "    for x, (images, labels) in enumerate(train_loader):\n",
    "        if torch.cuda.is_available():\n",
    "            images = Variable(images.cuda())\n",
    "            labels = Variable(labels.cuda())\n",
    "        \n",
    "        optimizer.zero_grad()\n",
    "        \n",
    "        outputs = model(images)\n",
    "        loss = loss_function(outputs, labels)\n",
    "        loss.backward()\n",
    "        optimizer.step()\n",
    "        \n",
    "        train_loss += loss.cpu().data*images.size(0)\n",
    "        _,prediction = torch.max(outputs.data, 1)\n",
    "        \n",
    "        train_accuracy += int(torch.sum(prediction == labels.data))\n",
    "    \n",
    "    train_accuracy = train_accuracy/train_count\n",
    "    train_loss = train_loss/train_count\n",
    "    \n",
    "    \n",
    "    #evaluation on testing data set\n",
    "    model.eval()\n",
    "    \n",
    "    test_accuracy = 0.0\n",
    "    for x, (images, labels) in enumerate(test_loader):\n",
    "        if torch.cuda.is_available():\n",
    "            images = Variable(images.cuda())\n",
    "            labels = Variable(labels.cuda())\n",
    "            \n",
    "        outputs = model(images)\n",
    "        _,prediction = torch.max(outputs.data, 1)\n",
    "        test_accuracy += int(torch.sum(prediction==labels.data))\n",
    "    \n",
    "    test_accuracy = test_accuracy/test_count\n",
    "    \n",
    "    print('epoch: ' + str(epoch) + ' Train Loss: ' + str(float(train_loss)) + ' Train Accuracy: ' + str(train_accuracy) + 'Test Accuracy: ' + str(test_accuracy))\n",
    "    \n",
    "    #Save the best model\n",
    "    if test_accuracy > best_accuracy:\n",
    "        torch.save(model.state_dict(), 'best_checkpoint.model')\n",
    "        best_accuracy = test_accuracy\n",
    "    "
   ]
  }
 ],
 "metadata": {
  "kernelspec": {
   "display_name": "Python 3",
   "language": "python",
   "name": "python3"
  },
  "language_info": {
   "codemirror_mode": {
    "name": "ipython",
    "version": 3
   },
   "file_extension": ".py",
   "mimetype": "text/x-python",
   "name": "python",
   "nbconvert_exporter": "python",
   "pygments_lexer": "ipython3",
   "version": "3.8.5"
  }
 },
 "nbformat": 4,
 "nbformat_minor": 4
}
